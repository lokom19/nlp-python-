{
 "cells": [
  {
   "cell_type": "markdown",
   "metadata": {
    "id": "yJrcR3xWsIXR"
   },
   "source": [
    "# Введение в обработку текста на естественном языке"
   ]
  },
  {
   "cell_type": "markdown",
   "metadata": {
    "id": "IaHCdcvwsIXU"
   },
   "source": [
    "__Автор задач: Блохин Н.В. (NVBlokhin@fa.ru)__\n",
    "\n",
    "Материалы:\n",
    "* Макрушин С.В. Лекция \"Введение в обработку текста на естественном языке\"\n",
    "* https://www.nltk.org/api/nltk.metrics.distance.html\n",
    "* https://pymorphy2.readthedocs.io/en/stable/user/guide.html\n",
    "* https://realpython.com/nltk-nlp-python/\n",
    "* https://scikit-learn.org/stable/modules/feature_extraction.html"
   ]
  },
  {
   "cell_type": "markdown",
   "metadata": {
    "id": "q-y28LoVsIXV"
   },
   "source": [
    "## Задачи для совместного разбора"
   ]
  },
  {
   "cell_type": "code",
   "execution_count": null,
   "metadata": {
    "id": "qVMC6sq5sIXW"
   },
   "outputs": [],
   "source": [
    "!pip install pymorphy2"
   ]
  },
  {
   "cell_type": "code",
   "execution_count": 1,
   "metadata": {
    "colab": {
     "base_uri": "https://localhost:8080/"
    },
    "id": "kQ7Btr4xsIXX",
    "outputId": "e14a112f-b5c2-49a4-8f85-d5b2180c5038"
   },
   "outputs": [
    {
     "name": "stderr",
     "output_type": "stream",
     "text": [
      "[nltk_data] Downloading package punkt to\n",
      "[nltk_data]     C:\\Users\\Владимир\\AppData\\Roaming\\nltk_data...\n",
      "[nltk_data]   Package punkt is already up-to-date!\n"
     ]
    },
    {
     "data": {
      "text/plain": [
       "True"
      ]
     },
     "execution_count": 1,
     "metadata": {},
     "output_type": "execute_result"
    }
   ],
   "source": [
    "import nltk\n",
    "nltk.download('punkt')"
   ]
  },
  {
   "cell_type": "markdown",
   "metadata": {
    "id": "qOraIQrQsIXY"
   },
   "source": [
    "1. Считайте слова из файла `litw-win.txt` и запишите их в список `words`. При помощи расстояния Левенштейна иправьте опечатку в слове \"велечайшим\"."
   ]
  },
  {
   "cell_type": "code",
   "execution_count": 2,
   "metadata": {
    "id": "hfmTbdZTsIXY"
   },
   "outputs": [],
   "source": [
    "from nltk import edit_distance"
   ]
  },
  {
   "cell_type": "markdown",
   "metadata": {
    "id": "_KxCL6rpsIXY"
   },
   "source": [
    "2. Разбейте текст из формулировки второго задания на слова. Проведите стемминг и лемматизацию слов."
   ]
  },
  {
   "cell_type": "code",
   "execution_count": 3,
   "metadata": {
    "id": "3KR-bxALsIXZ"
   },
   "outputs": [],
   "source": [
    "from nltk.stem import SnowballStemmer\n",
    "from nltk import word_tokenize\n",
    "import pymorphy2"
   ]
  },
  {
   "cell_type": "code",
   "execution_count": 4,
   "metadata": {
    "id": "9Q1dprp2sIXa"
   },
   "outputs": [],
   "source": [
    "text = '''Разбейте текст из формулировки второго задания на слова. Проведите стемминг и лемматизацию слов.'''"
   ]
  },
  {
   "cell_type": "markdown",
   "metadata": {
    "id": "Bhi-cPuCsIXa"
   },
   "source": [
    "3. Преобразуйте предложения из формулировки задания 2 в векторы при помощи `CountVectorizer`. Выведите на экран словарь обученного токенизатора."
   ]
  },
  {
   "cell_type": "code",
   "execution_count": 5,
   "metadata": {
    "id": "8AOmUgQKsIXa"
   },
   "outputs": [],
   "source": [
    "from sklearn.feature_extraction.text import CountVectorizer\n",
    "from nltk import sent_tokenize"
   ]
  },
  {
   "cell_type": "code",
   "execution_count": 6,
   "metadata": {
    "id": "TBkPyWz-sIXb"
   },
   "outputs": [],
   "source": [
    "text = '''Разбейте текст из формулировки второго задания на слова. Проведите стемминг и лемматизацию слов.'''"
   ]
  },
  {
   "cell_type": "markdown",
   "metadata": {
    "id": "m5MT-7mNsIXb"
   },
   "source": [
    "## Лабораторная работа 7"
   ]
  },
  {
   "cell_type": "markdown",
   "metadata": {
    "id": "qO4XMIxRsIXb"
   },
   "source": [
    "1\\. Загрузите данные из файла `ru_recipes_sample.csv` в виде `pd.DataFrame` `recipes` Используя регулярные выражения, удалите из описаний (столбец `description`) все символы, кроме русских букв, цифр и пробелов. Приведите все слова в описании к нижнему регистру. Сохраните полученный результат в столбец `description`."
   ]
  },
  {
   "cell_type": "code",
   "execution_count": 7,
   "metadata": {
    "id": "IL_lpciAse_n"
   },
   "outputs": [],
   "source": [
    "import pandas as pd "
   ]
  },
  {
   "cell_type": "code",
   "execution_count": 228,
   "metadata": {
    "colab": {
     "base_uri": "https://localhost:8080/",
     "height": 206
    },
    "id": "H2vXPIMMshls",
    "outputId": "d954c57f-116b-4c7b-e20e-eabc0e251462"
   },
   "outputs": [
    {
     "data": {
      "text/html": [
       "<div>\n",
       "<style scoped>\n",
       "    .dataframe tbody tr th:only-of-type {\n",
       "        vertical-align: middle;\n",
       "    }\n",
       "\n",
       "    .dataframe tbody tr th {\n",
       "        vertical-align: top;\n",
       "    }\n",
       "\n",
       "    .dataframe thead th {\n",
       "        text-align: right;\n",
       "    }\n",
       "</style>\n",
       "<table border=\"1\" class=\"dataframe\">\n",
       "  <thead>\n",
       "    <tr style=\"text-align: right;\">\n",
       "      <th></th>\n",
       "      <th>url</th>\n",
       "      <th>name</th>\n",
       "      <th>ingredients</th>\n",
       "      <th>description</th>\n",
       "    </tr>\n",
       "  </thead>\n",
       "  <tbody>\n",
       "    <tr>\n",
       "      <th>0</th>\n",
       "      <td>https://www.povarenok.ru/recipes/show/164365/</td>\n",
       "      <td>Густой молочно-клубничный коктейль</td>\n",
       "      <td>{'Молоко': '250 мл', 'Клубника': '200 г', 'Сах...</td>\n",
       "      <td>Этот коктейль готовлю из замороженной клубники...</td>\n",
       "    </tr>\n",
       "    <tr>\n",
       "      <th>1</th>\n",
       "      <td>https://www.povarenok.ru/recipes/show/1306/</td>\n",
       "      <td>Рулетики</td>\n",
       "      <td>{'Сыр твердый': None, 'Чеснок': None, 'Яйцо ку...</td>\n",
       "      <td>Быстро и вкусно.</td>\n",
       "    </tr>\n",
       "    <tr>\n",
       "      <th>2</th>\n",
       "      <td>https://www.povarenok.ru/recipes/show/10625/</td>\n",
       "      <td>Салат \"Баклажанчик\"</td>\n",
       "      <td>{'Баклажан': '3 шт', 'Лук репчатый': '2 шт', '...</td>\n",
       "      <td>Сытный, овощной салатик, пальчики оближете.</td>\n",
       "    </tr>\n",
       "    <tr>\n",
       "      <th>3</th>\n",
       "      <td>https://www.povarenok.ru/recipes/show/167337/</td>\n",
       "      <td>Куриные котлеты с картофельным пюре в духовке</td>\n",
       "      <td>{'Фарш куриный': '800 г', 'Пюре картофельное':...</td>\n",
       "      <td>Картофельное пюре и куриные котлеты - вкусная ...</td>\n",
       "    </tr>\n",
       "    <tr>\n",
       "      <th>4</th>\n",
       "      <td>https://www.povarenok.ru/recipes/show/91919/</td>\n",
       "      <td>Рецепт вишневой наливки</td>\n",
       "      <td>{'Вишня': '1 кг', 'Водка': '1 л', 'Сахар': '30...</td>\n",
       "      <td>Вишневая наливка имеет яркий вишневый вкус, ко...</td>\n",
       "    </tr>\n",
       "  </tbody>\n",
       "</table>\n",
       "</div>"
      ],
      "text/plain": [
       "                                             url  \\\n",
       "0  https://www.povarenok.ru/recipes/show/164365/   \n",
       "1    https://www.povarenok.ru/recipes/show/1306/   \n",
       "2   https://www.povarenok.ru/recipes/show/10625/   \n",
       "3  https://www.povarenok.ru/recipes/show/167337/   \n",
       "4   https://www.povarenok.ru/recipes/show/91919/   \n",
       "\n",
       "                                            name  \\\n",
       "0             Густой молочно-клубничный коктейль   \n",
       "1                                       Рулетики   \n",
       "2                            Салат \"Баклажанчик\"   \n",
       "3  Куриные котлеты с картофельным пюре в духовке   \n",
       "4                        Рецепт вишневой наливки   \n",
       "\n",
       "                                         ingredients  \\\n",
       "0  {'Молоко': '250 мл', 'Клубника': '200 г', 'Сах...   \n",
       "1  {'Сыр твердый': None, 'Чеснок': None, 'Яйцо ку...   \n",
       "2  {'Баклажан': '3 шт', 'Лук репчатый': '2 шт', '...   \n",
       "3  {'Фарш куриный': '800 г', 'Пюре картофельное':...   \n",
       "4  {'Вишня': '1 кг', 'Водка': '1 л', 'Сахар': '30...   \n",
       "\n",
       "                                         description  \n",
       "0  Этот коктейль готовлю из замороженной клубники...  \n",
       "1                                   Быстро и вкусно.  \n",
       "2        Сытный, овощной салатик, пальчики оближете.  \n",
       "3  Картофельное пюре и куриные котлеты - вкусная ...  \n",
       "4  Вишневая наливка имеет яркий вишневый вкус, ко...  "
      ]
     },
     "execution_count": 228,
     "metadata": {},
     "output_type": "execute_result"
    }
   ],
   "source": [
    "recipes = pd.read_csv('ru_recipes_sample.csv')\n",
    "recipes.head()"
   ]
  },
  {
   "cell_type": "code",
   "execution_count": 229,
   "metadata": {
    "id": "NFEZFBqNu-8M"
   },
   "outputs": [],
   "source": [
    "import re\n",
    "def get_formatted_phone(s):\n",
    "    return (re.sub(r'\"[а-яА-Я0-9 ]+\"', '', s))\n",
    "\n",
    "recipes['description'] = recipes['description'].apply(get_formatted_phone)\n",
    "recipes['description'] = recipes['description'].str.lower()"
   ]
  },
  {
   "cell_type": "code",
   "execution_count": 230,
   "metadata": {
    "colab": {
     "base_uri": "https://localhost:8080/"
    },
    "id": "7YWZrwhavQUo",
    "outputId": "c9b3b91f-72df-429a-9da7-97bec8abc4f5"
   },
   "outputs": [
    {
     "data": {
      "text/plain": [
       "0       этот коктейль готовлю из замороженной клубники...\n",
       "1                                        быстро и вкусно.\n",
       "2             сытный, овощной салатик, пальчики оближете.\n",
       "3       картофельное пюре и куриные котлеты - вкусная ...\n",
       "4       вишневая наливка имеет яркий вишневый вкус, ко...\n",
       "                              ...                        \n",
       "3462    для тех, кто любит чечевицу... вам сюда! очень...\n",
       "3463    баклажановые фантазии продолжаются! предлагаю ...\n",
       "3464    мое любимое блюдо лазанья. но кушать только фа...\n",
       "3465    прошлым летом варила варенье из одуванчиков по...\n",
       "3466    - и три корочки хлеба! - сделал заказ буратино...\n",
       "Name: description, Length: 3467, dtype: object"
      ]
     },
     "execution_count": 230,
     "metadata": {},
     "output_type": "execute_result"
    }
   ],
   "source": [
    "recipes['description']"
   ]
  },
  {
   "cell_type": "markdown",
   "metadata": {
    "id": "qqn9lgN6sIXc"
   },
   "source": [
    "### Расстояние редактирования"
   ]
  },
  {
   "cell_type": "markdown",
   "metadata": {
    "id": "s188_Cp_sIXc"
   },
   "source": [
    "2\\. Получите набор уникальных слов `words`, содержащихся в текстах описаний рецептов (воспользуйтесь `word_tokenize` из `nltk`). Сгенерируйте 5 пар случайно выбранных слов и посчитайте между ними расстояние Левенштейна. Выведите на экран результат в следующем виде:\n",
    "\n",
    "```\n",
    "d(word1, word2) = x\n",
    "```"
   ]
  },
  {
   "cell_type": "code",
   "execution_count": 13,
   "metadata": {
    "colab": {
     "base_uri": "https://localhost:8080/"
    },
    "id": "JILyLQvgyF4U",
    "outputId": "65fb37bc-9528-4568-acda-522e70d57081"
   },
   "outputs": [
    {
     "name": "stderr",
     "output_type": "stream",
     "text": [
      "[nltk_data] Downloading package punkt to\n",
      "[nltk_data]     C:\\Users\\Владимир\\AppData\\Roaming\\nltk_data...\n",
      "[nltk_data]   Package punkt is already up-to-date!\n"
     ]
    },
    {
     "data": {
      "text/plain": [
       "True"
      ]
     },
     "execution_count": 13,
     "metadata": {},
     "output_type": "execute_result"
    }
   ],
   "source": [
    "import nltk\n",
    "nltk.download('punkt')"
   ]
  },
  {
   "cell_type": "code",
   "execution_count": 231,
   "metadata": {
    "id": "LMsvn3yqwl2O"
   },
   "outputs": [],
   "source": [
    "str_ = ' '.join(list(recipes['description']))\n",
    "words = nltk.word_tokenize(str_)\n",
    "# words = set(list(str_))\n"
   ]
  },
  {
   "cell_type": "code",
   "execution_count": 232,
   "metadata": {
    "colab": {
     "base_uri": "https://localhost:8080/"
    },
    "id": "QoWik1K6xEax",
    "outputId": "190c2ec0-bcba-4bfb-ce1a-54c54c567b25",
    "scrolled": true
   },
   "outputs": [
    {
     "name": "stdout",
     "output_type": "stream",
     "text": [
      "[4, 6]\n",
      "126843\n",
      "16671\n",
      "горлодёр - вы, расстояние - 8\n",
      "мене - нежность, расстояние - 6\n",
      "ба́нуш - зря…, расстояние - 6\n",
      "грецкие - любимым, расстояние - 7\n",
      "перемешала - аромат, расстояние - 7\n"
     ]
    },
    {
     "name": "stderr",
     "output_type": "stream",
     "text": [
      "C:\\Users\\Владимир\\AppData\\Local\\Temp\\ipykernel_13924\\4149911072.py:3: DeprecationWarning: Sampling from a set deprecated\n",
      "since Python 3.9 and will be removed in a subsequent version.\n",
      "  a = random.sample(set([1, 2, 3, 4, 5, 6]), 2)\n",
      "C:\\Users\\Владимир\\AppData\\Local\\Temp\\ipykernel_13924\\4149911072.py:11: DeprecationWarning: Sampling from a set deprecated\n",
      "since Python 3.9 and will be removed in a subsequent version.\n",
      "  random_index = random.sample(words, 2)\n"
     ]
    }
   ],
   "source": [
    "import random\n",
    "import random\n",
    "a = random.sample(set([1, 2, 3, 4, 5, 6]), 2)\n",
    "print(a)\n",
    "\n",
    "print(len(words))\n",
    "print(len(set(words)))\n",
    "words = set(words)\n",
    "\n",
    "for n in range(5):\n",
    "  random_index = random.sample(words, 2)\n",
    "  print(f'{random_index[0]} - {random_index[1]}, расстояние - {nltk.edit_distance(random_index[0], random_index[1])}')"
   ]
  },
  {
   "cell_type": "markdown",
   "metadata": {
    "id": "R2-F2LaLsIXc"
   },
   "source": [
    "3\\. Напишите функцию, которая принимает на вход 2 текстовые строки `s1` и `s2` и при помощи расстояния Левенштейна определяет, является ли строка `s2` плагиатом `s1`. Функция должна реализовывать следующую логику: для каждого слова `w1` из `s1` проверяет, есть в `s2` хотя бы одно слово `w2`, такое, что расстояние Левенштейна между `w1` и `w2` меньше 2, и считает количество таких слов в `s1` $P$. \n",
    "\n",
    "$$ P = \\#\\{w_1 \\in s_1\\ | \\exists w_2 \\in s_2 : d(w_1, w_2) < tol\\}$$\n",
    "\n",
    "$$ L = max(|s1|, |s2|) $$\n",
    "\n",
    "Здесь $|\\cdot|$ - количество слов в строке, $\\#A$ - число элементов в множестве $A$, $w \\in s$ означает, что слово $w$ содержится в тексте $s$.\n",
    "\n",
    "Если отношение $P / L$ больше 0.8, то функция должна вернуть True; иначе False.\n",
    "\n",
    "Продемонстрируйте работу вашей функции на примере описаний двух рецептов с ID 135488 и 851934 (ID рецепта - это число, стоящее в конце url рецепта). Выведите на экран описания этих рецептов и результат работы функции."
   ]
  },
  {
   "cell_type": "code",
   "execution_count": 233,
   "metadata": {
    "colab": {
     "base_uri": "https://localhost:8080/"
    },
    "id": "uaGFt5qQsIXc",
    "outputId": "f5f0bc47-ef32-48b7-de5f-e1d9574fa996"
   },
   "outputs": [
    {
     "name": "stdout",
     "output_type": "stream",
     "text": [
      "Отношение = 0.4578313253012048\n"
     ]
    },
    {
     "data": {
      "text/plain": [
       "False"
      ]
     },
     "execution_count": 233,
     "metadata": {},
     "output_type": "execute_result"
    }
   ],
   "source": [
    "def is_plagiarism(s1: str, s2: str) -> bool:\n",
    "  counter = 0\n",
    "  quant_s1 = []\n",
    "  for el in s1.split():\n",
    "    for el2 in s2.split():\n",
    "      if nltk.edit_distance(el, el2) <=2:\n",
    "        quant_s1.append(el)\n",
    "  max_len = max(len(s1), len(s2))\n",
    "  print(f'Отношение = {(len(quant_s1))/max_len}')\n",
    "  return ((len(quant_s1))/max_len > 0.8)\n",
    "\n",
    "a1 = 'прекрасной закуской к крепким напиткам на фуршетном столе станет паштет из сала и авокадо с чесноком который мы спрячем в орешках из бородинского хлеба положив в середину маслину закуска получается необычной оригинальной и ценится особенно мужчинами'\n",
    "a2 = 'замечательной закуской к напиткам на фуршетном столе станет паштет из сала и авокадо с чесноком куда мы добавим орешков из бородинского хлеба положив в середину маслины закуска получается крайне необычной оригинальной и ценится особенно мужчинами'\n",
    "\n",
    "is_plagiarism(a1, a2)"
   ]
  },
  {
   "cell_type": "code",
   "execution_count": 234,
   "metadata": {
    "colab": {
     "base_uri": "https://localhost:8080/"
    },
    "id": "LCrqeW1i4C9M",
    "outputId": "0ab761fb-40cd-4287-ecce-0aca07d727a9"
   },
   "outputs": [
    {
     "name": "stdout",
     "output_type": "stream",
     "text": [
      "958    прекрасной закуской к крепким напиткам на фурш...\n",
      "Name: description, dtype: object\n",
      "1473    замечательной закуской к напиткам на фуршетном...\n",
      "Name: description, dtype: object\n",
      "Отношение = 0.1111111111111111\n"
     ]
    },
    {
     "data": {
      "text/plain": [
       "False"
      ]
     },
     "execution_count": 234,
     "metadata": {},
     "output_type": "execute_result"
    }
   ],
   "source": [
    "s1 = recipes[recipes['url'].str.contains('135488')]['description']\n",
    "s2 = recipes[recipes['url'].str.contains('851934')]['description']\n",
    "print(f'{str(s1)}\\n{str(s2)}')\n",
    "is_plagiarism(str(s1), str(s2))"
   ]
  },
  {
   "cell_type": "markdown",
   "metadata": {
    "id": "jCVPzKuNsIXc"
   },
   "source": [
    "### Стемминг, лемматизация"
   ]
  },
  {
   "cell_type": "markdown",
   "metadata": {
    "id": "wPpU-RC1sIXd"
   },
   "source": [
    "4\\. На основе набора слов из задания 2 создайте `pd.DataFrame` со столбцами `word`, `stemmed_word` и `normalized_word`. В столбец `stemmed_word` поместите версию слова после проведения процедуры стемминга; в столбец `normalized_word` поместите версию слова после проведения процедуры лемматизации. Столбец `word` укажите в качестве индекса. \n",
    "\n",
    "Для стемминга можно воспользоваться `SnowballStemmer` из `nltk`, для лемматизации слов - пакетом `pymorphy2`. Сравните результаты стемминга и лемматизации. Поясните на примере одной из строк получившегося фрейма (в виде текстового комментария), в чем разница между двумя этими подходами. "
   ]
  },
  {
   "cell_type": "code",
   "execution_count": 18,
   "metadata": {
    "colab": {
     "base_uri": "https://localhost:8080/"
    },
    "id": "TpFez7JlfxR0",
    "outputId": "3ad32fd2-c656-40d7-f858-a868e703175d"
   },
   "outputs": [
    {
     "name": "stderr",
     "output_type": "stream",
     "text": [
      "[nltk_data] Downloading package wordnet to\n",
      "[nltk_data]     C:\\Users\\Владимир\\AppData\\Roaming\\nltk_data...\n",
      "[nltk_data] Downloading package omw-1.4 to\n",
      "[nltk_data]     C:\\Users\\Владимир\\AppData\\Roaming\\nltk_data...\n"
     ]
    },
    {
     "data": {
      "text/plain": [
       "True"
      ]
     },
     "execution_count": 18,
     "metadata": {},
     "output_type": "execute_result"
    }
   ],
   "source": [
    "nltk.download('wordnet')\n",
    "nltk.download('omw-1.4') "
   ]
  },
  {
   "cell_type": "code",
   "execution_count": 235,
   "metadata": {
    "id": "K4u3bdircz1u"
   },
   "outputs": [],
   "source": [
    "words\n",
    "df_new = pd.DataFrame()\n",
    "stemmer = nltk.SnowballStemmer(\"russian\")\n",
    "df_new['words'] = list(words)\n",
    "df_new\n",
    "\n",
    "df_new['stemmed_word'] = df_new['words'].apply(stemmer.stem)\n",
    "\n",
    "df_new['stemmed_word']\n",
    "\n",
    "from nltk.stem import WordNetLemmatizer \n",
    "\n",
    "lemmatizer = WordNetLemmatizer()\n",
    "\n",
    "\n",
    "\n",
    "\n",
    "df_new['normalized_word'] = df_new['words'].apply(lemmatizer.lemmatize)"
   ]
  },
  {
   "cell_type": "markdown",
   "metadata": {
    "id": "Znr5-oxohU9P"
   },
   "source": [
    "Леммитизация с попомщью nltk (вышло не очень)\n",
    "\n"
   ]
  },
  {
   "cell_type": "code",
   "execution_count": 236,
   "metadata": {
    "colab": {
     "base_uri": "https://localhost:8080/",
     "height": 424
    },
    "id": "Vexv5RP0f_oG",
    "outputId": "4e1c1822-8877-4473-f688-036dd872720a"
   },
   "outputs": [
    {
     "data": {
      "text/html": [
       "<div>\n",
       "<style scoped>\n",
       "    .dataframe tbody tr th:only-of-type {\n",
       "        vertical-align: middle;\n",
       "    }\n",
       "\n",
       "    .dataframe tbody tr th {\n",
       "        vertical-align: top;\n",
       "    }\n",
       "\n",
       "    .dataframe thead th {\n",
       "        text-align: right;\n",
       "    }\n",
       "</style>\n",
       "<table border=\"1\" class=\"dataframe\">\n",
       "  <thead>\n",
       "    <tr style=\"text-align: right;\">\n",
       "      <th></th>\n",
       "      <th>words</th>\n",
       "      <th>stemmed_word</th>\n",
       "      <th>normalized_word</th>\n",
       "    </tr>\n",
       "  </thead>\n",
       "  <tbody>\n",
       "    <tr>\n",
       "      <th>0</th>\n",
       "      <td>полгода</td>\n",
       "      <td>полгод</td>\n",
       "      <td>полгода</td>\n",
       "    </tr>\n",
       "    <tr>\n",
       "      <th>1</th>\n",
       "      <td>а</td>\n",
       "      <td>а</td>\n",
       "      <td>а</td>\n",
       "    </tr>\n",
       "    <tr>\n",
       "      <th>2</th>\n",
       "      <td>салом</td>\n",
       "      <td>сал</td>\n",
       "      <td>салом</td>\n",
       "    </tr>\n",
       "    <tr>\n",
       "      <th>3</th>\n",
       "      <td>вафель</td>\n",
       "      <td>вафел</td>\n",
       "      <td>вафель</td>\n",
       "    </tr>\n",
       "    <tr>\n",
       "      <th>4</th>\n",
       "      <td>завтраки-обеды-перек</td>\n",
       "      <td>завтраки-обеды-перек</td>\n",
       "      <td>завтраки-обеды-перек</td>\n",
       "    </tr>\n",
       "    <tr>\n",
       "      <th>...</th>\n",
       "      <td>...</td>\n",
       "      <td>...</td>\n",
       "      <td>...</td>\n",
       "    </tr>\n",
       "    <tr>\n",
       "      <th>16666</th>\n",
       "      <td>кое-чего</td>\n",
       "      <td>кое-ч</td>\n",
       "      <td>кое-чего</td>\n",
       "    </tr>\n",
       "    <tr>\n",
       "      <th>16667</th>\n",
       "      <td>понятное</td>\n",
       "      <td>понятн</td>\n",
       "      <td>понятное</td>\n",
       "    </tr>\n",
       "    <tr>\n",
       "      <th>16668</th>\n",
       "      <td>витаминная</td>\n",
       "      <td>витамин</td>\n",
       "      <td>витаминная</td>\n",
       "    </tr>\n",
       "    <tr>\n",
       "      <th>16669</th>\n",
       "      <td>этапы</td>\n",
       "      <td>этап</td>\n",
       "      <td>этапы</td>\n",
       "    </tr>\n",
       "    <tr>\n",
       "      <th>16670</th>\n",
       "      <td>ароматом</td>\n",
       "      <td>аромат</td>\n",
       "      <td>ароматом</td>\n",
       "    </tr>\n",
       "  </tbody>\n",
       "</table>\n",
       "<p>16671 rows × 3 columns</p>\n",
       "</div>"
      ],
      "text/plain": [
       "                      words          stemmed_word       normalized_word\n",
       "0                   полгода                полгод               полгода\n",
       "1                         а                     а                     а\n",
       "2                     салом                   сал                 салом\n",
       "3                    вафель                 вафел                вафель\n",
       "4      завтраки-обеды-перек  завтраки-обеды-перек  завтраки-обеды-перек\n",
       "...                     ...                   ...                   ...\n",
       "16666              кое-чего                 кое-ч              кое-чего\n",
       "16667              понятное                понятн              понятное\n",
       "16668            витаминная               витамин            витаминная\n",
       "16669                 этапы                  этап                 этапы\n",
       "16670              ароматом                аромат              ароматом\n",
       "\n",
       "[16671 rows x 3 columns]"
      ]
     },
     "execution_count": 236,
     "metadata": {},
     "output_type": "execute_result"
    }
   ],
   "source": [
    "df_new"
   ]
  },
  {
   "cell_type": "code",
   "execution_count": 14,
   "metadata": {
    "colab": {
     "base_uri": "https://localhost:8080/"
    },
    "id": "nTh-EWEkgb6J",
    "outputId": "b00fb510-61b8-4de9-ae18-554063458887"
   },
   "outputs": [
    {
     "name": "stdout",
     "output_type": "stream",
     "text": [
      "Looking in indexes: https://pypi.org/simple, https://us-python.pkg.dev/colab-wheels/public/simple/\n",
      "Collecting pymorphy2\n",
      "  Downloading pymorphy2-0.9.1-py3-none-any.whl (55 kB)\n",
      "\u001b[K     |████████████████████████████████| 55 kB 2.0 MB/s \n",
      "\u001b[?25hCollecting dawg-python>=0.7.1\n",
      "  Downloading DAWG_Python-0.7.2-py2.py3-none-any.whl (11 kB)\n",
      "Collecting pymorphy2-dicts-ru<3.0,>=2.4\n",
      "  Downloading pymorphy2_dicts_ru-2.4.417127.4579844-py2.py3-none-any.whl (8.2 MB)\n",
      "\u001b[K     |████████████████████████████████| 8.2 MB 11.2 MB/s \n",
      "\u001b[?25hCollecting docopt>=0.6\n",
      "  Downloading docopt-0.6.2.tar.gz (25 kB)\n",
      "Building wheels for collected packages: docopt\n",
      "  Building wheel for docopt (setup.py) ... \u001b[?25l\u001b[?25hdone\n",
      "  Created wheel for docopt: filename=docopt-0.6.2-py2.py3-none-any.whl size=13723 sha256=1e92f0a9e56aa8f7bfbbc7a9d67aac1720ba9995786709e4c1b78f71dcc59285\n",
      "  Stored in directory: /root/.cache/pip/wheels/72/b0/3f/1d95f96ff986c7dfffe46ce2be4062f38ebd04b506c77c81b9\n",
      "Successfully built docopt\n",
      "Installing collected packages: pymorphy2-dicts-ru, docopt, dawg-python, pymorphy2\n",
      "Successfully installed dawg-python-0.7.2 docopt-0.6.2 pymorphy2-0.9.1 pymorphy2-dicts-ru-2.4.417127.4579844\n"
     ]
    }
   ],
   "source": [
    "! pip install pymorphy2"
   ]
  },
  {
   "cell_type": "markdown",
   "metadata": {
    "id": "nxzSoaYehdY4"
   },
   "source": [
    "леммитизация методом pymorphy2"
   ]
  },
  {
   "cell_type": "code",
   "execution_count": 237,
   "metadata": {
    "id": "7P4NsBCNgaUd"
   },
   "outputs": [],
   "source": [
    "from nltk import sent_tokenize, word_tokenize, regexp_tokenize\n",
    "from pymorphy2 import MorphAnalyzer\n",
    "\n",
    "def tokenize_n_normalize(sent, pat=r\"(?u)\\b\\w\\w+\\b\", morph=MorphAnalyzer()):\n",
    "    return [morph.parse(tok)[0].normal_form \n",
    "            for tok in regexp_tokenize(sent, pat)]\n",
    "\n",
    "df_new[\"normalized_word\"] = df_new[\"words\"].map(lambda x: \" \".join(tokenize_n_normalize(x)))"
   ]
  },
  {
   "cell_type": "code",
   "execution_count": 238,
   "metadata": {
    "colab": {
     "base_uri": "https://localhost:8080/",
     "height": 424
    },
    "id": "ODDGZ-GEdqdE",
    "outputId": "cd44d969-0902-4da5-8d59-b1e336fa5c01"
   },
   "outputs": [
    {
     "data": {
      "text/html": [
       "<div>\n",
       "<style scoped>\n",
       "    .dataframe tbody tr th:only-of-type {\n",
       "        vertical-align: middle;\n",
       "    }\n",
       "\n",
       "    .dataframe tbody tr th {\n",
       "        vertical-align: top;\n",
       "    }\n",
       "\n",
       "    .dataframe thead th {\n",
       "        text-align: right;\n",
       "    }\n",
       "</style>\n",
       "<table border=\"1\" class=\"dataframe\">\n",
       "  <thead>\n",
       "    <tr style=\"text-align: right;\">\n",
       "      <th></th>\n",
       "      <th>words</th>\n",
       "      <th>stemmed_word</th>\n",
       "      <th>normalized_word</th>\n",
       "    </tr>\n",
       "  </thead>\n",
       "  <tbody>\n",
       "    <tr>\n",
       "      <th>0</th>\n",
       "      <td>полгода</td>\n",
       "      <td>полгод</td>\n",
       "      <td>полгода</td>\n",
       "    </tr>\n",
       "    <tr>\n",
       "      <th>1</th>\n",
       "      <td>а</td>\n",
       "      <td>а</td>\n",
       "      <td></td>\n",
       "    </tr>\n",
       "    <tr>\n",
       "      <th>2</th>\n",
       "      <td>салом</td>\n",
       "      <td>сал</td>\n",
       "      <td>сало</td>\n",
       "    </tr>\n",
       "    <tr>\n",
       "      <th>3</th>\n",
       "      <td>вафель</td>\n",
       "      <td>вафел</td>\n",
       "      <td>вафля</td>\n",
       "    </tr>\n",
       "    <tr>\n",
       "      <th>4</th>\n",
       "      <td>завтраки-обеды-перек</td>\n",
       "      <td>завтраки-обеды-перек</td>\n",
       "      <td>завтрак обед перека</td>\n",
       "    </tr>\n",
       "    <tr>\n",
       "      <th>...</th>\n",
       "      <td>...</td>\n",
       "      <td>...</td>\n",
       "      <td>...</td>\n",
       "    </tr>\n",
       "    <tr>\n",
       "      <th>16666</th>\n",
       "      <td>кое-чего</td>\n",
       "      <td>кое-ч</td>\n",
       "      <td>кой что</td>\n",
       "    </tr>\n",
       "    <tr>\n",
       "      <th>16667</th>\n",
       "      <td>понятное</td>\n",
       "      <td>понятн</td>\n",
       "      <td>понятный</td>\n",
       "    </tr>\n",
       "    <tr>\n",
       "      <th>16668</th>\n",
       "      <td>витаминная</td>\n",
       "      <td>витамин</td>\n",
       "      <td>витаминный</td>\n",
       "    </tr>\n",
       "    <tr>\n",
       "      <th>16669</th>\n",
       "      <td>этапы</td>\n",
       "      <td>этап</td>\n",
       "      <td>этап</td>\n",
       "    </tr>\n",
       "    <tr>\n",
       "      <th>16670</th>\n",
       "      <td>ароматом</td>\n",
       "      <td>аромат</td>\n",
       "      <td>аромат</td>\n",
       "    </tr>\n",
       "  </tbody>\n",
       "</table>\n",
       "<p>16671 rows × 3 columns</p>\n",
       "</div>"
      ],
      "text/plain": [
       "                      words          stemmed_word      normalized_word\n",
       "0                   полгода                полгод              полгода\n",
       "1                         а                     а                     \n",
       "2                     салом                   сал                 сало\n",
       "3                    вафель                 вафел                вафля\n",
       "4      завтраки-обеды-перек  завтраки-обеды-перек  завтрак обед перека\n",
       "...                     ...                   ...                  ...\n",
       "16666              кое-чего                 кое-ч              кой что\n",
       "16667              понятное                понятн             понятный\n",
       "16668            витаминная               витамин           витаминный\n",
       "16669                 этапы                  этап                 этап\n",
       "16670              ароматом                аромат               аромат\n",
       "\n",
       "[16671 rows x 3 columns]"
      ]
     },
     "execution_count": 238,
     "metadata": {},
     "output_type": "execute_result"
    }
   ],
   "source": [
    "df_new"
   ]
  },
  {
   "cell_type": "markdown",
   "metadata": {
    "id": "7w7am6GWh5VT"
   },
   "source": [
    "если брать нулевую строку: видно, что stemmed_word - это основная часть слова (как будто корень слова), а normalized_word - начальная форма"
   ]
  },
  {
   "cell_type": "markdown",
   "metadata": {
    "id": "bAj1tYcRsIXd"
   },
   "source": [
    "5\\. Добавьте в таблицу `recipes` столбец `description_no_stopwords`, в котором содержится текст описания рецепта после удаления из него стоп-слов. Посчитайте и выведите на экран долю стоп-слов среди общего количества слов. Сравните топ-10 самых часто употребляемых слов до и после удаления стоп-слов."
   ]
  },
  {
   "cell_type": "code",
   "execution_count": 23,
   "metadata": {
    "colab": {
     "base_uri": "https://localhost:8080/"
    },
    "id": "sil224_RiN8g",
    "outputId": "41672c2b-7abf-4ac7-de42-d8599ebbd1a8"
   },
   "outputs": [
    {
     "name": "stderr",
     "output_type": "stream",
     "text": [
      "[nltk_data] Downloading package stopwords to\n",
      "[nltk_data]     C:\\Users\\Владимир\\AppData\\Roaming\\nltk_data...\n",
      "[nltk_data]   Unzipping corpora\\stopwords.zip.\n"
     ]
    },
    {
     "data": {
      "text/plain": [
       "True"
      ]
     },
     "execution_count": 23,
     "metadata": {},
     "output_type": "execute_result"
    }
   ],
   "source": [
    "nltk.download('stopwords')"
   ]
  },
  {
   "cell_type": "code",
   "execution_count": 239,
   "metadata": {
    "colab": {
     "base_uri": "https://localhost:8080/"
    },
    "id": "lIRsB5rRieOI",
    "outputId": "d735e8bf-b827-4d0a-8db1-6f3062f41e04"
   },
   "outputs": [],
   "source": [
    "from nltk.corpus import stopwords\n",
    "\n",
    "stop = stopwords.words('russian')\n",
    "\n",
    "recipes['description_no_stopwords'] = recipes['description'].apply(lambda x: ' '.join([item for item in x.split() if item not in stop]))\n"
   ]
  },
  {
   "cell_type": "code",
   "execution_count": 240,
   "metadata": {
    "colab": {
     "base_uri": "https://localhost:8080/",
     "height": 572
    },
    "id": "JU4X8K61jBsP",
    "outputId": "5af6c7e6-a99b-461a-dbee-89878d1b6ace"
   },
   "outputs": [
    {
     "data": {
      "text/html": [
       "<div>\n",
       "<style scoped>\n",
       "    .dataframe tbody tr th:only-of-type {\n",
       "        vertical-align: middle;\n",
       "    }\n",
       "\n",
       "    .dataframe tbody tr th {\n",
       "        vertical-align: top;\n",
       "    }\n",
       "\n",
       "    .dataframe thead th {\n",
       "        text-align: right;\n",
       "    }\n",
       "</style>\n",
       "<table border=\"1\" class=\"dataframe\">\n",
       "  <thead>\n",
       "    <tr style=\"text-align: right;\">\n",
       "      <th></th>\n",
       "      <th>url</th>\n",
       "      <th>name</th>\n",
       "      <th>ingredients</th>\n",
       "      <th>description</th>\n",
       "      <th>description_no_stopwords</th>\n",
       "    </tr>\n",
       "  </thead>\n",
       "  <tbody>\n",
       "    <tr>\n",
       "      <th>0</th>\n",
       "      <td>https://www.povarenok.ru/recipes/show/164365/</td>\n",
       "      <td>Густой молочно-клубничный коктейль</td>\n",
       "      <td>{'Молоко': '250 мл', 'Клубника': '200 г', 'Сах...</td>\n",
       "      <td>этот коктейль готовлю из замороженной клубники...</td>\n",
       "      <td>коктейль готовлю замороженной клубники. клубни...</td>\n",
       "    </tr>\n",
       "    <tr>\n",
       "      <th>1</th>\n",
       "      <td>https://www.povarenok.ru/recipes/show/1306/</td>\n",
       "      <td>Рулетики</td>\n",
       "      <td>{'Сыр твердый': None, 'Чеснок': None, 'Яйцо ку...</td>\n",
       "      <td>быстро и вкусно.</td>\n",
       "      <td>быстро вкусно.</td>\n",
       "    </tr>\n",
       "    <tr>\n",
       "      <th>2</th>\n",
       "      <td>https://www.povarenok.ru/recipes/show/10625/</td>\n",
       "      <td>Салат \"Баклажанчик\"</td>\n",
       "      <td>{'Баклажан': '3 шт', 'Лук репчатый': '2 шт', '...</td>\n",
       "      <td>сытный, овощной салатик, пальчики оближете.</td>\n",
       "      <td>сытный, овощной салатик, пальчики оближете.</td>\n",
       "    </tr>\n",
       "    <tr>\n",
       "      <th>3</th>\n",
       "      <td>https://www.povarenok.ru/recipes/show/167337/</td>\n",
       "      <td>Куриные котлеты с картофельным пюре в духовке</td>\n",
       "      <td>{'Фарш куриный': '800 г', 'Пюре картофельное':...</td>\n",
       "      <td>картофельное пюре и куриные котлеты - вкусная ...</td>\n",
       "      <td>картофельное пюре куриные котлеты - вкусная кл...</td>\n",
       "    </tr>\n",
       "    <tr>\n",
       "      <th>4</th>\n",
       "      <td>https://www.povarenok.ru/recipes/show/91919/</td>\n",
       "      <td>Рецепт вишневой наливки</td>\n",
       "      <td>{'Вишня': '1 кг', 'Водка': '1 л', 'Сахар': '30...</td>\n",
       "      <td>вишневая наливка имеет яркий вишневый вкус, ко...</td>\n",
       "      <td>вишневая наливка имеет яркий вишневый вкус, ко...</td>\n",
       "    </tr>\n",
       "    <tr>\n",
       "      <th>...</th>\n",
       "      <td>...</td>\n",
       "      <td>...</td>\n",
       "      <td>...</td>\n",
       "      <td>...</td>\n",
       "      <td>...</td>\n",
       "    </tr>\n",
       "    <tr>\n",
       "      <th>3462</th>\n",
       "      <td>https://www.povarenok.ru/recipes/show/54574/</td>\n",
       "      <td>Мшош</td>\n",
       "      <td>{'Чечевица': '1 стак.', 'Лук репчатый': '2 шт'...</td>\n",
       "      <td>для тех, кто любит чечевицу... вам сюда! очень...</td>\n",
       "      <td>тех, любит чечевицу... сюда! очень вкусная чеч...</td>\n",
       "    </tr>\n",
       "    <tr>\n",
       "      <th>3463</th>\n",
       "      <td>https://www.povarenok.ru/recipes/show/113494/</td>\n",
       "      <td>Мясные треугольники с баклажаном</td>\n",
       "      <td>{'Фарш мясной': '400 г', 'Баклажан': '1 шт', '...</td>\n",
       "      <td>баклажановые фантазии продолжаются! предлагаю ...</td>\n",
       "      <td>баклажановые фантазии продолжаются! предлагаю ...</td>\n",
       "    </tr>\n",
       "    <tr>\n",
       "      <th>3464</th>\n",
       "      <td>https://www.povarenok.ru/recipes/show/83228/</td>\n",
       "      <td>\"Болоньез\" по-новому</td>\n",
       "      <td>{'Фарш мясной': '400 г', 'Томаты в собственном...</td>\n",
       "      <td>мое любимое блюдо лазанья. но кушать только фа...</td>\n",
       "      <td>мое любимое блюдо лазанья. кушать фарш поднадо...</td>\n",
       "    </tr>\n",
       "    <tr>\n",
       "      <th>3465</th>\n",
       "      <td>https://www.povarenok.ru/recipes/show/172238/</td>\n",
       "      <td>Варенье из одуванчиков с апельсинами</td>\n",
       "      <td>{'Цветки': '400 г', 'Сахар': '1300 г', 'Апельс...</td>\n",
       "      <td>прошлым летом варила варенье из одуванчиков по...</td>\n",
       "      <td>прошлым летом варила варенье одуванчиков рецеп...</td>\n",
       "    </tr>\n",
       "    <tr>\n",
       "      <th>3466</th>\n",
       "      <td>https://www.povarenok.ru/recipes/show/52794/</td>\n",
       "      <td>Три корочки хлеба под соусом болоньез для Пино...</td>\n",
       "      <td>{'Хлеб': '3 шт', 'Фарш мясной': '200-250 г', '...</td>\n",
       "      <td>- и три корочки хлеба! - сделал заказ буратино...</td>\n",
       "      <td>- корочки хлеба! - сделал заказ буратино тавер...</td>\n",
       "    </tr>\n",
       "  </tbody>\n",
       "</table>\n",
       "<p>3467 rows × 5 columns</p>\n",
       "</div>"
      ],
      "text/plain": [
       "                                                url  \\\n",
       "0     https://www.povarenok.ru/recipes/show/164365/   \n",
       "1       https://www.povarenok.ru/recipes/show/1306/   \n",
       "2      https://www.povarenok.ru/recipes/show/10625/   \n",
       "3     https://www.povarenok.ru/recipes/show/167337/   \n",
       "4      https://www.povarenok.ru/recipes/show/91919/   \n",
       "...                                             ...   \n",
       "3462   https://www.povarenok.ru/recipes/show/54574/   \n",
       "3463  https://www.povarenok.ru/recipes/show/113494/   \n",
       "3464   https://www.povarenok.ru/recipes/show/83228/   \n",
       "3465  https://www.povarenok.ru/recipes/show/172238/   \n",
       "3466   https://www.povarenok.ru/recipes/show/52794/   \n",
       "\n",
       "                                                   name  \\\n",
       "0                    Густой молочно-клубничный коктейль   \n",
       "1                                              Рулетики   \n",
       "2                                   Салат \"Баклажанчик\"   \n",
       "3         Куриные котлеты с картофельным пюре в духовке   \n",
       "4                               Рецепт вишневой наливки   \n",
       "...                                                 ...   \n",
       "3462                                               Мшош   \n",
       "3463                   Мясные треугольники с баклажаном   \n",
       "3464                               \"Болоньез\" по-новому   \n",
       "3465               Варенье из одуванчиков с апельсинами   \n",
       "3466  Три корочки хлеба под соусом болоньез для Пино...   \n",
       "\n",
       "                                            ingredients  \\\n",
       "0     {'Молоко': '250 мл', 'Клубника': '200 г', 'Сах...   \n",
       "1     {'Сыр твердый': None, 'Чеснок': None, 'Яйцо ку...   \n",
       "2     {'Баклажан': '3 шт', 'Лук репчатый': '2 шт', '...   \n",
       "3     {'Фарш куриный': '800 г', 'Пюре картофельное':...   \n",
       "4     {'Вишня': '1 кг', 'Водка': '1 л', 'Сахар': '30...   \n",
       "...                                                 ...   \n",
       "3462  {'Чечевица': '1 стак.', 'Лук репчатый': '2 шт'...   \n",
       "3463  {'Фарш мясной': '400 г', 'Баклажан': '1 шт', '...   \n",
       "3464  {'Фарш мясной': '400 г', 'Томаты в собственном...   \n",
       "3465  {'Цветки': '400 г', 'Сахар': '1300 г', 'Апельс...   \n",
       "3466  {'Хлеб': '3 шт', 'Фарш мясной': '200-250 г', '...   \n",
       "\n",
       "                                            description  \\\n",
       "0     этот коктейль готовлю из замороженной клубники...   \n",
       "1                                      быстро и вкусно.   \n",
       "2           сытный, овощной салатик, пальчики оближете.   \n",
       "3     картофельное пюре и куриные котлеты - вкусная ...   \n",
       "4     вишневая наливка имеет яркий вишневый вкус, ко...   \n",
       "...                                                 ...   \n",
       "3462  для тех, кто любит чечевицу... вам сюда! очень...   \n",
       "3463  баклажановые фантазии продолжаются! предлагаю ...   \n",
       "3464  мое любимое блюдо лазанья. но кушать только фа...   \n",
       "3465  прошлым летом варила варенье из одуванчиков по...   \n",
       "3466  - и три корочки хлеба! - сделал заказ буратино...   \n",
       "\n",
       "                               description_no_stopwords  \n",
       "0     коктейль готовлю замороженной клубники. клубни...  \n",
       "1                                        быстро вкусно.  \n",
       "2           сытный, овощной салатик, пальчики оближете.  \n",
       "3     картофельное пюре куриные котлеты - вкусная кл...  \n",
       "4     вишневая наливка имеет яркий вишневый вкус, ко...  \n",
       "...                                                 ...  \n",
       "3462  тех, любит чечевицу... сюда! очень вкусная чеч...  \n",
       "3463  баклажановые фантазии продолжаются! предлагаю ...  \n",
       "3464  мое любимое блюдо лазанья. кушать фарш поднадо...  \n",
       "3465  прошлым летом варила варенье одуванчиков рецеп...  \n",
       "3466  - корочки хлеба! - сделал заказ буратино тавер...  \n",
       "\n",
       "[3467 rows x 5 columns]"
      ]
     },
     "execution_count": 240,
     "metadata": {},
     "output_type": "execute_result"
    }
   ],
   "source": [
    "recipes"
   ]
  },
  {
   "cell_type": "code",
   "execution_count": 241,
   "metadata": {
    "colab": {
     "base_uri": "https://localhost:8080/"
    },
    "id": "e7lFXkQhkBPV",
    "outputId": "48c058a4-3b98-4fbf-d60c-68b061c15af9"
   },
   "outputs": [
    {
     "name": "stdout",
     "output_type": "stream",
     "text": [
      "Доля стоп слов 0.14969581786996944%\n",
      "Топ 10 после удаления: [('очень', 1594), ('-', 930), ('рецепт', 717), ('это', 717), ('просто', 324), ('блюдо', 309), ('вкусный', 308), ('приготовить', 292), ('предлагаю', 262), ('получается', 245)]\n",
      "Топ 10 до удаления: [('и', 4973), ('в', 2553), ('с', 1902), ('на', 1639), ('очень', 1594), ('не', 1506), ('из', 998), ('я', 940), ('-', 930), ('а', 843)]\n"
     ]
    }
   ],
   "source": [
    "from collections import Counter\n",
    "\n",
    "ss = ' '.join(list(recipes['description']))\n",
    "\n",
    "ss2 = ' '.join(list(recipes['description_no_stopwords']))\n",
    "\n",
    "print(f'Доля стоп слов {1 - len(ss2) / len(ss)}%')\n",
    "\n",
    "\n",
    "print(f\"Топ 10 после удаления: {Counter(' '.join(list(recipes['description_no_stopwords'])).split()).most_common(10)}\")\n",
    "print(f\"Топ 10 до удаления: {Counter(' '.join(list(recipes['description'])).split()).most_common(10)}\")\n"
   ]
  },
  {
   "cell_type": "markdown",
   "metadata": {
    "id": "t38jZBuHsIXd"
   },
   "source": [
    "### Векторное представление текста"
   ]
  },
  {
   "cell_type": "markdown",
   "metadata": {
    "id": "xxfsU4gfsIXd"
   },
   "source": [
    "6\\. Выберите случайным образом 5 рецептов из набора данных, в названии которых есть слово \"оладьи\" (без учета регистра). Представьте описание каждого рецепта в виде числового вектора при помощи `TfidfVectorizer`. На основе полученных векторов создайте `pd.DataFrame`, в котором названия колонок соответствуют словам из словаря объекта-векторизатора. \n",
    "\n",
    "Примечание: обратите внимание на порядок слов при создании колонок."
   ]
  },
  {
   "cell_type": "code",
   "execution_count": 242,
   "metadata": {
    "colab": {
     "base_uri": "https://localhost:8080/",
     "height": 206
    },
    "id": "mtVJdKUSljqw",
    "outputId": "5ee13f41-b8e5-4f91-cb79-e600e91f866c"
   },
   "outputs": [
    {
     "data": {
      "text/html": [
       "<div>\n",
       "<style scoped>\n",
       "    .dataframe tbody tr th:only-of-type {\n",
       "        vertical-align: middle;\n",
       "    }\n",
       "\n",
       "    .dataframe tbody tr th {\n",
       "        vertical-align: top;\n",
       "    }\n",
       "\n",
       "    .dataframe thead th {\n",
       "        text-align: right;\n",
       "    }\n",
       "</style>\n",
       "<table border=\"1\" class=\"dataframe\">\n",
       "  <thead>\n",
       "    <tr style=\"text-align: right;\">\n",
       "      <th></th>\n",
       "      <th>url</th>\n",
       "      <th>name</th>\n",
       "      <th>ingredients</th>\n",
       "      <th>description</th>\n",
       "      <th>description_no_stopwords</th>\n",
       "    </tr>\n",
       "  </thead>\n",
       "  <tbody>\n",
       "    <tr>\n",
       "      <th>115</th>\n",
       "      <td>https://www.povarenok.ru/recipes/show/122866/</td>\n",
       "      <td>Овсяные оладьи с луково-гороховой начинкой</td>\n",
       "      <td>{'Мука овсяная': '1 стак.', 'Молоко': '1 стак....</td>\n",
       "      <td>очень вкусные, нежный оладьи, несмотря на то, ...</td>\n",
       "      <td>очень вкусные, нежный оладьи, несмотря то, сос...</td>\n",
       "    </tr>\n",
       "    <tr>\n",
       "      <th>1846</th>\n",
       "      <td>https://www.povarenok.ru/recipes/show/138148/</td>\n",
       "      <td>Оладьи с изюмом</td>\n",
       "      <td>{'Кефир': '0.5 л', 'Яйцо куриное': '1 шт', 'Со...</td>\n",
       "      <td>вкусные, домашние оладушки с изюмом.\\r\\nугощай...</td>\n",
       "      <td>вкусные, домашние оладушки изюмом. угощайтесь.</td>\n",
       "    </tr>\n",
       "    <tr>\n",
       "      <th>1516</th>\n",
       "      <td>https://www.povarenok.ru/recipes/show/135218/</td>\n",
       "      <td>Оладьи из брокколи</td>\n",
       "      <td>{'Брокколи': None, 'Яйцо куриное': None, 'Мука...</td>\n",
       "      <td>эти оладушки имеют очень пикантный вкус благод...</td>\n",
       "      <td>оладушки имеют очень пикантный вкус благодаря ...</td>\n",
       "    </tr>\n",
       "    <tr>\n",
       "      <th>3117</th>\n",
       "      <td>https://www.povarenok.ru/recipes/show/122540/</td>\n",
       "      <td>Картофельные оладьи с соусом \"Весна\"</td>\n",
       "      <td>{'Картофель': '600 г', 'Лук репчатый': '1 шт',...</td>\n",
       "      <td>оладьи могут быть разные. эти - картофельные с...</td>\n",
       "      <td>оладьи могут разные. - картофельные рыбой - до...</td>\n",
       "    </tr>\n",
       "    <tr>\n",
       "      <th>599</th>\n",
       "      <td>https://www.povarenok.ru/recipes/show/83639/</td>\n",
       "      <td>Оладьи из брокколи с сыром</td>\n",
       "      <td>{'Брокколи': '250 г', 'Сыр твердый': '50 г', '...</td>\n",
       "      <td>оладьи из брокколи и сыра. сытно, а как вкусно...</td>\n",
       "      <td>оладьи брокколи сыра. сытно, вкусно, подать ол...</td>\n",
       "    </tr>\n",
       "  </tbody>\n",
       "</table>\n",
       "</div>"
      ],
      "text/plain": [
       "                                                url  \\\n",
       "115   https://www.povarenok.ru/recipes/show/122866/   \n",
       "1846  https://www.povarenok.ru/recipes/show/138148/   \n",
       "1516  https://www.povarenok.ru/recipes/show/135218/   \n",
       "3117  https://www.povarenok.ru/recipes/show/122540/   \n",
       "599    https://www.povarenok.ru/recipes/show/83639/   \n",
       "\n",
       "                                            name  \\\n",
       "115   Овсяные оладьи с луково-гороховой начинкой   \n",
       "1846                             Оладьи с изюмом   \n",
       "1516                          Оладьи из брокколи   \n",
       "3117        Картофельные оладьи с соусом \"Весна\"   \n",
       "599                   Оладьи из брокколи с сыром   \n",
       "\n",
       "                                            ingredients  \\\n",
       "115   {'Мука овсяная': '1 стак.', 'Молоко': '1 стак....   \n",
       "1846  {'Кефир': '0.5 л', 'Яйцо куриное': '1 шт', 'Со...   \n",
       "1516  {'Брокколи': None, 'Яйцо куриное': None, 'Мука...   \n",
       "3117  {'Картофель': '600 г', 'Лук репчатый': '1 шт',...   \n",
       "599   {'Брокколи': '250 г', 'Сыр твердый': '50 г', '...   \n",
       "\n",
       "                                            description  \\\n",
       "115   очень вкусные, нежный оладьи, несмотря на то, ...   \n",
       "1846  вкусные, домашние оладушки с изюмом.\\r\\nугощай...   \n",
       "1516  эти оладушки имеют очень пикантный вкус благод...   \n",
       "3117  оладьи могут быть разные. эти - картофельные с...   \n",
       "599   оладьи из брокколи и сыра. сытно, а как вкусно...   \n",
       "\n",
       "                               description_no_stopwords  \n",
       "115   очень вкусные, нежный оладьи, несмотря то, сос...  \n",
       "1846     вкусные, домашние оладушки изюмом. угощайтесь.  \n",
       "1516  оладушки имеют очень пикантный вкус благодаря ...  \n",
       "3117  оладьи могут разные. - картофельные рыбой - до...  \n",
       "599   оладьи брокколи сыра. сытно, вкусно, подать ол...  "
      ]
     },
     "execution_count": 242,
     "metadata": {},
     "output_type": "execute_result"
    }
   ],
   "source": [
    "df_new_new = recipes[recipes['name'].str.lower().str.contains('оладьи')].sample(5)\n",
    "df_new_new"
   ]
  },
  {
   "cell_type": "code",
   "execution_count": 243,
   "metadata": {
    "id": "qo0rJdwpnqTu"
   },
   "outputs": [],
   "source": [
    "from sklearn.feature_extraction.text import TfidfVectorizer\n",
    "\n",
    "v = TfidfVectorizer()\n",
    "x = v.fit_transform(df_new_new['description'])\n",
    "# print(x.todense()[1])\n",
    "# v.get_feature_names()\n"
   ]
  },
  {
   "cell_type": "code",
   "execution_count": 244,
   "metadata": {
    "colab": {
     "base_uri": "https://localhost:8080/",
     "height": 290
    },
    "id": "uwzNexnHnxGJ",
    "outputId": "9e85714b-3f4c-458a-d93c-4b96d44c964c"
   },
   "outputs": [
    {
     "name": "stderr",
     "output_type": "stream",
     "text": [
      "C:\\ProgramData\\Anaconda3\\lib\\site-packages\\sklearn\\utils\\deprecation.py:87: FutureWarning: Function get_feature_names is deprecated; get_feature_names is deprecated in 1.0 and will be removed in 1.2. Please use get_feature_names_out instead.\n",
      "  warnings.warn(msg, category=FutureWarning)\n"
     ]
    },
    {
     "data": {
      "text/html": [
       "<div>\n",
       "<style scoped>\n",
       "    .dataframe tbody tr th:only-of-type {\n",
       "        vertical-align: middle;\n",
       "    }\n",
       "\n",
       "    .dataframe tbody tr th {\n",
       "        vertical-align: top;\n",
       "    }\n",
       "\n",
       "    .dataframe thead th {\n",
       "        text-align: right;\n",
       "    }\n",
       "</style>\n",
       "<table border=\"1\" class=\"dataframe\">\n",
       "  <thead>\n",
       "    <tr style=\"text-align: right;\">\n",
       "      <th></th>\n",
       "      <th>200мл</th>\n",
       "      <th>ассоциируются</th>\n",
       "      <th>благодаря</th>\n",
       "      <th>близкие</th>\n",
       "      <th>блюдо</th>\n",
       "      <th>большой</th>\n",
       "      <th>брокколи</th>\n",
       "      <th>был</th>\n",
       "      <th>быть</th>\n",
       "      <th>вам</th>\n",
       "      <th>...</th>\n",
       "      <th>хороший</th>\n",
       "      <th>хорошо</th>\n",
       "      <th>чесноку</th>\n",
       "      <th>честно</th>\n",
       "      <th>что</th>\n",
       "      <th>шалот</th>\n",
       "      <th>эти</th>\n",
       "      <th>этим</th>\n",
       "      <th>это</th>\n",
       "      <th>этом</th>\n",
       "    </tr>\n",
       "    <tr>\n",
       "      <th>name</th>\n",
       "      <th></th>\n",
       "      <th></th>\n",
       "      <th></th>\n",
       "      <th></th>\n",
       "      <th></th>\n",
       "      <th></th>\n",
       "      <th></th>\n",
       "      <th></th>\n",
       "      <th></th>\n",
       "      <th></th>\n",
       "      <th></th>\n",
       "      <th></th>\n",
       "      <th></th>\n",
       "      <th></th>\n",
       "      <th></th>\n",
       "      <th></th>\n",
       "      <th></th>\n",
       "      <th></th>\n",
       "      <th></th>\n",
       "      <th></th>\n",
       "      <th></th>\n",
       "    </tr>\n",
       "  </thead>\n",
       "  <tbody>\n",
       "    <tr>\n",
       "      <th>Овсяные оладьи с луково-гороховой начинкой</th>\n",
       "      <td>0.137864</td>\n",
       "      <td>0.000000</td>\n",
       "      <td>0.000000</td>\n",
       "      <td>0.000000</td>\n",
       "      <td>0.000000</td>\n",
       "      <td>0.000000</td>\n",
       "      <td>0.000000</td>\n",
       "      <td>0.137864</td>\n",
       "      <td>0.000000</td>\n",
       "      <td>0.000000</td>\n",
       "      <td>...</td>\n",
       "      <td>0.137864</td>\n",
       "      <td>0.137864</td>\n",
       "      <td>0.000000</td>\n",
       "      <td>0.000000</td>\n",
       "      <td>0.111228</td>\n",
       "      <td>0.137864</td>\n",
       "      <td>0.000000</td>\n",
       "      <td>0.000000</td>\n",
       "      <td>0.000000</td>\n",
       "      <td>0.137864</td>\n",
       "    </tr>\n",
       "    <tr>\n",
       "      <th>Оладьи с изюмом</th>\n",
       "      <td>0.000000</td>\n",
       "      <td>0.000000</td>\n",
       "      <td>0.000000</td>\n",
       "      <td>0.000000</td>\n",
       "      <td>0.000000</td>\n",
       "      <td>0.000000</td>\n",
       "      <td>0.000000</td>\n",
       "      <td>0.000000</td>\n",
       "      <td>0.000000</td>\n",
       "      <td>0.000000</td>\n",
       "      <td>...</td>\n",
       "      <td>0.000000</td>\n",
       "      <td>0.000000</td>\n",
       "      <td>0.000000</td>\n",
       "      <td>0.000000</td>\n",
       "      <td>0.000000</td>\n",
       "      <td>0.000000</td>\n",
       "      <td>0.000000</td>\n",
       "      <td>0.000000</td>\n",
       "      <td>0.000000</td>\n",
       "      <td>0.000000</td>\n",
       "    </tr>\n",
       "    <tr>\n",
       "      <th>Оладьи из брокколи</th>\n",
       "      <td>0.000000</td>\n",
       "      <td>0.000000</td>\n",
       "      <td>0.164821</td>\n",
       "      <td>0.164821</td>\n",
       "      <td>0.164821</td>\n",
       "      <td>0.164821</td>\n",
       "      <td>0.265952</td>\n",
       "      <td>0.000000</td>\n",
       "      <td>0.000000</td>\n",
       "      <td>0.164821</td>\n",
       "      <td>...</td>\n",
       "      <td>0.000000</td>\n",
       "      <td>0.000000</td>\n",
       "      <td>0.164821</td>\n",
       "      <td>0.164821</td>\n",
       "      <td>0.132976</td>\n",
       "      <td>0.000000</td>\n",
       "      <td>0.132976</td>\n",
       "      <td>0.000000</td>\n",
       "      <td>0.164821</td>\n",
       "      <td>0.000000</td>\n",
       "    </tr>\n",
       "    <tr>\n",
       "      <th>Картофельные оладьи с соусом \"Весна\"</th>\n",
       "      <td>0.000000</td>\n",
       "      <td>0.166216</td>\n",
       "      <td>0.000000</td>\n",
       "      <td>0.000000</td>\n",
       "      <td>0.000000</td>\n",
       "      <td>0.000000</td>\n",
       "      <td>0.000000</td>\n",
       "      <td>0.000000</td>\n",
       "      <td>0.166216</td>\n",
       "      <td>0.000000</td>\n",
       "      <td>...</td>\n",
       "      <td>0.000000</td>\n",
       "      <td>0.000000</td>\n",
       "      <td>0.000000</td>\n",
       "      <td>0.000000</td>\n",
       "      <td>0.000000</td>\n",
       "      <td>0.000000</td>\n",
       "      <td>0.134102</td>\n",
       "      <td>0.166216</td>\n",
       "      <td>0.000000</td>\n",
       "      <td>0.000000</td>\n",
       "    </tr>\n",
       "    <tr>\n",
       "      <th>Оладьи из брокколи с сыром</th>\n",
       "      <td>0.000000</td>\n",
       "      <td>0.000000</td>\n",
       "      <td>0.000000</td>\n",
       "      <td>0.000000</td>\n",
       "      <td>0.000000</td>\n",
       "      <td>0.000000</td>\n",
       "      <td>0.219605</td>\n",
       "      <td>0.000000</td>\n",
       "      <td>0.000000</td>\n",
       "      <td>0.000000</td>\n",
       "      <td>...</td>\n",
       "      <td>0.000000</td>\n",
       "      <td>0.000000</td>\n",
       "      <td>0.000000</td>\n",
       "      <td>0.000000</td>\n",
       "      <td>0.000000</td>\n",
       "      <td>0.000000</td>\n",
       "      <td>0.000000</td>\n",
       "      <td>0.000000</td>\n",
       "      <td>0.000000</td>\n",
       "      <td>0.000000</td>\n",
       "    </tr>\n",
       "  </tbody>\n",
       "</table>\n",
       "<p>5 rows × 119 columns</p>\n",
       "</div>"
      ],
      "text/plain": [
       "                                               200мл  ассоциируются  \\\n",
       "name                                                                  \n",
       "Овсяные оладьи с луково-гороховой начинкой  0.137864       0.000000   \n",
       "Оладьи с изюмом                             0.000000       0.000000   \n",
       "Оладьи из брокколи                          0.000000       0.000000   \n",
       "Картофельные оладьи с соусом \"Весна\"        0.000000       0.166216   \n",
       "Оладьи из брокколи с сыром                  0.000000       0.000000   \n",
       "\n",
       "                                            благодаря   близкие     блюдо  \\\n",
       "name                                                                        \n",
       "Овсяные оладьи с луково-гороховой начинкой   0.000000  0.000000  0.000000   \n",
       "Оладьи с изюмом                              0.000000  0.000000  0.000000   \n",
       "Оладьи из брокколи                           0.164821  0.164821  0.164821   \n",
       "Картофельные оладьи с соусом \"Весна\"         0.000000  0.000000  0.000000   \n",
       "Оладьи из брокколи с сыром                   0.000000  0.000000  0.000000   \n",
       "\n",
       "                                             большой  брокколи       был  \\\n",
       "name                                                                       \n",
       "Овсяные оладьи с луково-гороховой начинкой  0.000000  0.000000  0.137864   \n",
       "Оладьи с изюмом                             0.000000  0.000000  0.000000   \n",
       "Оладьи из брокколи                          0.164821  0.265952  0.000000   \n",
       "Картофельные оладьи с соусом \"Весна\"        0.000000  0.000000  0.000000   \n",
       "Оладьи из брокколи с сыром                  0.000000  0.219605  0.000000   \n",
       "\n",
       "                                                быть       вам  ...   хороший  \\\n",
       "name                                                            ...             \n",
       "Овсяные оладьи с луково-гороховой начинкой  0.000000  0.000000  ...  0.137864   \n",
       "Оладьи с изюмом                             0.000000  0.000000  ...  0.000000   \n",
       "Оладьи из брокколи                          0.000000  0.164821  ...  0.000000   \n",
       "Картофельные оладьи с соусом \"Весна\"        0.166216  0.000000  ...  0.000000   \n",
       "Оладьи из брокколи с сыром                  0.000000  0.000000  ...  0.000000   \n",
       "\n",
       "                                              хорошо   чесноку    честно  \\\n",
       "name                                                                       \n",
       "Овсяные оладьи с луково-гороховой начинкой  0.137864  0.000000  0.000000   \n",
       "Оладьи с изюмом                             0.000000  0.000000  0.000000   \n",
       "Оладьи из брокколи                          0.000000  0.164821  0.164821   \n",
       "Картофельные оладьи с соусом \"Весна\"        0.000000  0.000000  0.000000   \n",
       "Оладьи из брокколи с сыром                  0.000000  0.000000  0.000000   \n",
       "\n",
       "                                                 что     шалот       эти  \\\n",
       "name                                                                       \n",
       "Овсяные оладьи с луково-гороховой начинкой  0.111228  0.137864  0.000000   \n",
       "Оладьи с изюмом                             0.000000  0.000000  0.000000   \n",
       "Оладьи из брокколи                          0.132976  0.000000  0.132976   \n",
       "Картофельные оладьи с соусом \"Весна\"        0.000000  0.000000  0.134102   \n",
       "Оладьи из брокколи с сыром                  0.000000  0.000000  0.000000   \n",
       "\n",
       "                                                этим       это      этом  \n",
       "name                                                                      \n",
       "Овсяные оладьи с луково-гороховой начинкой  0.000000  0.000000  0.137864  \n",
       "Оладьи с изюмом                             0.000000  0.000000  0.000000  \n",
       "Оладьи из брокколи                          0.000000  0.164821  0.000000  \n",
       "Картофельные оладьи с соусом \"Весна\"        0.166216  0.000000  0.000000  \n",
       "Оладьи из брокколи с сыром                  0.000000  0.000000  0.000000  \n",
       "\n",
       "[5 rows x 119 columns]"
      ]
     },
     "execution_count": 244,
     "metadata": {},
     "output_type": "execute_result"
    }
   ],
   "source": [
    "df1 = pd.DataFrame(x.toarray(), columns=v.get_feature_names(), index = df_new_new['name'])\n",
    "df1"
   ]
  },
  {
   "cell_type": "markdown",
   "metadata": {
    "id": "y9_k-yPLsIXd"
   },
   "source": [
    "7\\. Вычислите близость между каждой парой рецептов, выбранных в задании 6, используя косинусное расстояние (можно воспользоваться функциями из любого пакета: `scipy`, `scikit-learn` или реализовать функцию самому). Результаты оформите в виде таблицы `pd.DataFrame`. В качестве названий строк и столбцов используйте названия рецептов.\n",
    "\n",
    "Примечание: обратите внимание, что $d_{cosine}(x, x) = 0$"
   ]
  },
  {
   "cell_type": "code",
   "execution_count": 245,
   "metadata": {
    "colab": {
     "base_uri": "https://localhost:8080/",
     "height": 54
    },
    "id": "cpO3rilJoobt",
    "outputId": "5a020418-2a9d-48ac-e60e-2f41ba7097bd"
   },
   "outputs": [
    {
     "data": {
      "text/html": [
       "<div>\n",
       "<style scoped>\n",
       "    .dataframe tbody tr th:only-of-type {\n",
       "        vertical-align: middle;\n",
       "    }\n",
       "\n",
       "    .dataframe tbody tr th {\n",
       "        vertical-align: top;\n",
       "    }\n",
       "\n",
       "    .dataframe thead th {\n",
       "        text-align: right;\n",
       "    }\n",
       "</style>\n",
       "<table border=\"1\" class=\"dataframe\">\n",
       "  <thead>\n",
       "    <tr style=\"text-align: right;\">\n",
       "      <th>name</th>\n",
       "      <th>Овсяные оладьи с луково-гороховой начинкой</th>\n",
       "      <th>Оладьи с изюмом</th>\n",
       "      <th>Оладьи из брокколи</th>\n",
       "      <th>Картофельные оладьи с соусом \"Весна\"</th>\n",
       "      <th>Оладьи из брокколи с сыром</th>\n",
       "    </tr>\n",
       "    <tr>\n",
       "      <th>name</th>\n",
       "      <th></th>\n",
       "      <th></th>\n",
       "      <th></th>\n",
       "      <th></th>\n",
       "      <th></th>\n",
       "    </tr>\n",
       "  </thead>\n",
       "  <tbody>\n",
       "    <tr>\n",
       "      <th>Овсяные оладьи с луково-гороховой начинкой</th>\n",
       "      <td>NaN</td>\n",
       "      <td>NaN</td>\n",
       "      <td>NaN</td>\n",
       "      <td>NaN</td>\n",
       "      <td>NaN</td>\n",
       "    </tr>\n",
       "    <tr>\n",
       "      <th>Оладьи с изюмом</th>\n",
       "      <td>NaN</td>\n",
       "      <td>NaN</td>\n",
       "      <td>NaN</td>\n",
       "      <td>NaN</td>\n",
       "      <td>NaN</td>\n",
       "    </tr>\n",
       "    <tr>\n",
       "      <th>Оладьи из брокколи</th>\n",
       "      <td>NaN</td>\n",
       "      <td>NaN</td>\n",
       "      <td>NaN</td>\n",
       "      <td>NaN</td>\n",
       "      <td>NaN</td>\n",
       "    </tr>\n",
       "    <tr>\n",
       "      <th>Картофельные оладьи с соусом \"Весна\"</th>\n",
       "      <td>NaN</td>\n",
       "      <td>NaN</td>\n",
       "      <td>NaN</td>\n",
       "      <td>NaN</td>\n",
       "      <td>NaN</td>\n",
       "    </tr>\n",
       "    <tr>\n",
       "      <th>Оладьи из брокколи с сыром</th>\n",
       "      <td>NaN</td>\n",
       "      <td>NaN</td>\n",
       "      <td>NaN</td>\n",
       "      <td>NaN</td>\n",
       "      <td>NaN</td>\n",
       "    </tr>\n",
       "  </tbody>\n",
       "</table>\n",
       "</div>"
      ],
      "text/plain": [
       "name                                       Овсяные оладьи с луково-гороховой начинкой  \\\n",
       "name                                                                                    \n",
       "Овсяные оладьи с луково-гороховой начинкой                                        NaN   \n",
       "Оладьи с изюмом                                                                   NaN   \n",
       "Оладьи из брокколи                                                                NaN   \n",
       "Картофельные оладьи с соусом \"Весна\"                                              NaN   \n",
       "Оладьи из брокколи с сыром                                                        NaN   \n",
       "\n",
       "name                                       Оладьи с изюмом Оладьи из брокколи  \\\n",
       "name                                                                            \n",
       "Овсяные оладьи с луково-гороховой начинкой             NaN                NaN   \n",
       "Оладьи с изюмом                                        NaN                NaN   \n",
       "Оладьи из брокколи                                     NaN                NaN   \n",
       "Картофельные оладьи с соусом \"Весна\"                   NaN                NaN   \n",
       "Оладьи из брокколи с сыром                             NaN                NaN   \n",
       "\n",
       "name                                       Картофельные оладьи с соусом \"Весна\"  \\\n",
       "name                                                                              \n",
       "Овсяные оладьи с луково-гороховой начинкой                                  NaN   \n",
       "Оладьи с изюмом                                                             NaN   \n",
       "Оладьи из брокколи                                                          NaN   \n",
       "Картофельные оладьи с соусом \"Весна\"                                        NaN   \n",
       "Оладьи из брокколи с сыром                                                  NaN   \n",
       "\n",
       "name                                       Оладьи из брокколи с сыром  \n",
       "name                                                                   \n",
       "Овсяные оладьи с луково-гороховой начинкой                        NaN  \n",
       "Оладьи с изюмом                                                   NaN  \n",
       "Оладьи из брокколи                                                NaN  \n",
       "Картофельные оладьи с соусом \"Весна\"                              NaN  \n",
       "Оладьи из брокколи с сыром                                        NaN  "
      ]
     },
     "execution_count": 245,
     "metadata": {},
     "output_type": "execute_result"
    }
   ],
   "source": [
    "# df_new_new['description'].iloc[0]\n",
    "df_new_new\n",
    "df_cos = pd.DataFrame(columns = df_new_new['name'], index= df_new_new['name'])\n",
    "# df_cos.loc[1, 1]\n",
    "df_cos\n"
   ]
  },
  {
   "cell_type": "code",
   "execution_count": 249,
   "metadata": {},
   "outputs": [],
   "source": [
    "list1 = df_new_new.iloc[0]['description'].split()\n"
   ]
  },
  {
   "cell_type": "code",
   "execution_count": 261,
   "metadata": {
    "id": "zgCOvF4goJ29"
   },
   "outputs": [],
   "source": [
    "from scipy import spatial\n",
    "\n",
    "# list1 = df1.loc[0].values\n",
    "# list2 = df1.iloc[1].values\n",
    "\n",
    "\n",
    "def get_cosinus(df):\n",
    "    for i in range(len(df_new_new)):\n",
    "        listt = []\n",
    "        for j in range(len(df_new_new)):\n",
    "            v = TfidfVectorizer()\n",
    "            list1 = list(df1.iloc[i].values)\n",
    "            list2 = list(df1.iloc[j].values)\n",
    "            listt.append(spatial.distance.cosine(list1,list2))\n",
    "        df_cos[df_cos.columns[i]] = listt\n",
    "\n",
    "get_cosinus(df_new_new)\n"
   ]
  },
  {
   "cell_type": "code",
   "execution_count": 266,
   "metadata": {
    "colab": {
     "base_uri": "https://localhost:8080/"
    },
    "id": "WU4JU4Tm8j0d",
    "outputId": "2dc5c355-3b19-4852-a9e1-9debbeb41301"
   },
   "outputs": [
    {
     "data": {
      "text/html": [
       "<div>\n",
       "<style scoped>\n",
       "    .dataframe tbody tr th:only-of-type {\n",
       "        vertical-align: middle;\n",
       "    }\n",
       "\n",
       "    .dataframe tbody tr th {\n",
       "        vertical-align: top;\n",
       "    }\n",
       "\n",
       "    .dataframe thead th {\n",
       "        text-align: right;\n",
       "    }\n",
       "</style>\n",
       "<table border=\"1\" class=\"dataframe\">\n",
       "  <thead>\n",
       "    <tr style=\"text-align: right;\">\n",
       "      <th>name</th>\n",
       "      <th>Овсяные оладьи с луково-гороховой начинкой</th>\n",
       "      <th>Оладьи с изюмом</th>\n",
       "      <th>Оладьи из брокколи</th>\n",
       "      <th>Картофельные оладьи с соусом \"Весна\"</th>\n",
       "      <th>Оладьи из брокколи с сыром</th>\n",
       "    </tr>\n",
       "    <tr>\n",
       "      <th>name</th>\n",
       "      <th></th>\n",
       "      <th></th>\n",
       "      <th></th>\n",
       "      <th></th>\n",
       "      <th></th>\n",
       "    </tr>\n",
       "  </thead>\n",
       "  <tbody>\n",
       "    <tr>\n",
       "      <th>Овсяные оладьи с луково-гороховой начинкой</th>\n",
       "      <td>0.000000</td>\n",
       "      <td>0.956734</td>\n",
       "      <td>0.940837</td>\n",
       "      <td>0.909503</td>\n",
       "      <td>0.876229</td>\n",
       "    </tr>\n",
       "    <tr>\n",
       "      <th>Оладьи с изюмом</th>\n",
       "      <td>0.956734</td>\n",
       "      <td>0.000000</td>\n",
       "      <td>0.948274</td>\n",
       "      <td>1.000000</td>\n",
       "      <td>1.000000</td>\n",
       "    </tr>\n",
       "    <tr>\n",
       "      <th>Оладьи из брокколи</th>\n",
       "      <td>0.940837</td>\n",
       "      <td>0.948274</td>\n",
       "      <td>0.000000</td>\n",
       "      <td>0.982168</td>\n",
       "      <td>0.883191</td>\n",
       "    </tr>\n",
       "    <tr>\n",
       "      <th>Картофельные оладьи с соусом \"Весна\"</th>\n",
       "      <td>0.909503</td>\n",
       "      <td>1.000000</td>\n",
       "      <td>0.982168</td>\n",
       "      <td>0.000000</td>\n",
       "      <td>0.918831</td>\n",
       "    </tr>\n",
       "    <tr>\n",
       "      <th>Оладьи из брокколи с сыром</th>\n",
       "      <td>0.876229</td>\n",
       "      <td>1.000000</td>\n",
       "      <td>0.883191</td>\n",
       "      <td>0.918831</td>\n",
       "      <td>0.000000</td>\n",
       "    </tr>\n",
       "  </tbody>\n",
       "</table>\n",
       "</div>"
      ],
      "text/plain": [
       "name                                        Овсяные оладьи с луково-гороховой начинкой  \\\n",
       "name                                                                                     \n",
       "Овсяные оладьи с луково-гороховой начинкой                                    0.000000   \n",
       "Оладьи с изюмом                                                               0.956734   \n",
       "Оладьи из брокколи                                                            0.940837   \n",
       "Картофельные оладьи с соусом \"Весна\"                                          0.909503   \n",
       "Оладьи из брокколи с сыром                                                    0.876229   \n",
       "\n",
       "name                                        Оладьи с изюмом  \\\n",
       "name                                                          \n",
       "Овсяные оладьи с луково-гороховой начинкой         0.956734   \n",
       "Оладьи с изюмом                                    0.000000   \n",
       "Оладьи из брокколи                                 0.948274   \n",
       "Картофельные оладьи с соусом \"Весна\"               1.000000   \n",
       "Оладьи из брокколи с сыром                         1.000000   \n",
       "\n",
       "name                                        Оладьи из брокколи  \\\n",
       "name                                                             \n",
       "Овсяные оладьи с луково-гороховой начинкой            0.940837   \n",
       "Оладьи с изюмом                                       0.948274   \n",
       "Оладьи из брокколи                                    0.000000   \n",
       "Картофельные оладьи с соусом \"Весна\"                  0.982168   \n",
       "Оладьи из брокколи с сыром                            0.883191   \n",
       "\n",
       "name                                        Картофельные оладьи с соусом \"Весна\"  \\\n",
       "name                                                                               \n",
       "Овсяные оладьи с луково-гороховой начинкой                              0.909503   \n",
       "Оладьи с изюмом                                                         1.000000   \n",
       "Оладьи из брокколи                                                      0.982168   \n",
       "Картофельные оладьи с соусом \"Весна\"                                    0.000000   \n",
       "Оладьи из брокколи с сыром                                              0.918831   \n",
       "\n",
       "name                                        Оладьи из брокколи с сыром  \n",
       "name                                                                    \n",
       "Овсяные оладьи с луково-гороховой начинкой                    0.876229  \n",
       "Оладьи с изюмом                                               1.000000  \n",
       "Оладьи из брокколи                                            0.883191  \n",
       "Картофельные оладьи с соусом \"Весна\"                          0.918831  \n",
       "Оладьи из брокколи с сыром                                    0.000000  "
      ]
     },
     "execution_count": 266,
     "metadata": {},
     "output_type": "execute_result"
    }
   ],
   "source": [
    "df_cos"
   ]
  },
  {
   "cell_type": "markdown",
   "metadata": {
    "id": "9ebC2OXwsIXe"
   },
   "source": [
    "8\\. Напишите функцию, которая принимает на вход `pd.DataFrame`, полученный в задании 7, и возвращает в виде кортежа названия двух различных рецептов, которые являются наиболее похожими. Прокомментируйте результат (в виде текстового комментария). Для объяснения результата сравните слова в описаниях двух этих отзывов."
   ]
  },
  {
   "cell_type": "code",
   "execution_count": 316,
   "metadata": {
    "colab": {
     "base_uri": "https://localhost:8080/"
    },
    "id": "UVeuvpHTsIXe",
    "outputId": "235eb69a-d372-4eee-a2c8-30cb866dd8c2"
   },
   "outputs": [
    {
     "data": {
      "text/plain": [
       "('Оладьи из брокколи с сыром', 'Овсяные оладьи с луково-гороховой начинкой')"
      ]
     },
     "execution_count": 316,
     "metadata": {},
     "output_type": "execute_result"
    }
   ],
   "source": [
    "def find_closest(sim_df: pd.DataFrame) -> tuple:\n",
    "    min_val = np.min(df_cos.values[np.nonzero(df_cos.values)])\n",
    "    place_min = np.where(df_cos.values == min_val)\n",
    "    tuple_min = tuple(df_cos.iloc[place_min].columns)\n",
    "    return tuple_min\n",
    "\n",
    "find_closest(df_cos)"
   ]
  },
  {
   "cell_type": "code",
   "execution_count": 332,
   "metadata": {
    "colab": {
     "base_uri": "https://localhost:8080/"
    },
    "id": "jEX9YQ_V_0ky",
    "outputId": "4fb1ede5-a380-4bfd-a333-c1bd0ae45aa4"
   },
   "outputs": [],
   "source": [
    "a = list(df_new_new[df_new_new['name'] == tuple_min[0]]['description'].str.split())"
   ]
  },
  {
   "cell_type": "code",
   "execution_count": 333,
   "metadata": {
    "colab": {
     "base_uri": "https://localhost:8080/"
    },
    "id": "KcEvjWxVB-Gp",
    "outputId": "f402daa0-1ab7-44c2-bd30-4ccddb23011e"
   },
   "outputs": [],
   "source": [
    "b  = list(df_new_new[df_new_new['name'] == tuple_min[1]]['description'].str.split())"
   ]
  },
  {
   "cell_type": "code",
   "execution_count": 335,
   "metadata": {
    "colab": {
     "base_uri": "https://localhost:8080/"
    },
    "id": "9x8L_PgwDK9m",
    "outputId": "1535f8b8-e5c8-48fc-e120-f8510328e757"
   },
   "outputs": [
    {
     "name": "stdout",
     "output_type": "stream",
     "text": [
      "[['оладьи', 'из', 'брокколи', 'и', 'сыра.', 'сытно,', 'а', 'как', 'вкусно,', 'если', 'подать', 'оладьи', 'со', 'сметаной', 'и', 'посыпать', 'всё', 'тёртым', 'сыром!']]\n"
     ]
    },
    {
     "data": {
      "text/plain": [
       "[['очень',\n",
       "  'вкусные,',\n",
       "  'нежный',\n",
       "  'оладьи,',\n",
       "  'несмотря',\n",
       "  'на',\n",
       "  'то,',\n",
       "  'что',\n",
       "  'состоят',\n",
       "  'из',\n",
       "  'нескольких',\n",
       "  'ингредиентов.',\n",
       "  'начинка',\n",
       "  'из',\n",
       "  'лука',\n",
       "  'с',\n",
       "  'зеленым',\n",
       "  'горошком',\n",
       "  'и',\n",
       "  'небольшим',\n",
       "  'кол-вом',\n",
       "  'фарша,',\n",
       "  'хорошо',\n",
       "  'дополняют',\n",
       "  'вкус.',\n",
       "  'подавать',\n",
       "  'можно',\n",
       "  'со',\n",
       "  'сметаной.',\n",
       "  'стакан',\n",
       "  'у',\n",
       "  'меня',\n",
       "  '200мл.',\n",
       "  'лук',\n",
       "  'шалот,',\n",
       "  'можно',\n",
       "  'заменить',\n",
       "  'на',\n",
       "  'обычный,',\n",
       "  'просто',\n",
       "  'у',\n",
       "  'меня',\n",
       "  'его',\n",
       "  'в',\n",
       "  'этом',\n",
       "  'году,',\n",
       "  'был',\n",
       "  'хороший',\n",
       "  'урожай,',\n",
       "  'вот',\n",
       "  'и',\n",
       "  'кладу',\n",
       "  'его',\n",
       "  'везде.',\n",
       "  'угошайтесь!']]"
      ]
     },
     "execution_count": 335,
     "metadata": {},
     "output_type": "execute_result"
    }
   ],
   "source": [
    "print(a)\n",
    "b"
   ]
  },
  {
   "cell_type": "markdown",
   "metadata": {},
   "source": [
    "слова из первого списка встречаются во втором чаще, чем в других парах\n"
   ]
  }
 ],
 "metadata": {
  "colab": {
   "collapsed_sections": [],
   "provenance": []
  },
  "kernelspec": {
   "display_name": "Python 3 (ipykernel)",
   "language": "python",
   "name": "python3"
  },
  "language_info": {
   "codemirror_mode": {
    "name": "ipython",
    "version": 3
   },
   "file_extension": ".py",
   "mimetype": "text/x-python",
   "name": "python",
   "nbconvert_exporter": "python",
   "pygments_lexer": "ipython3",
   "version": "3.9.12"
  }
 },
 "nbformat": 4,
 "nbformat_minor": 1
}
